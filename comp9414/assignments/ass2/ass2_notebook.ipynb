{
 "cells": [
  {
   "cell_type": "code",
   "execution_count": 1,
   "metadata": {},
   "outputs": [],
   "source": [
    "# Load libraries\n",
    "import sys\n",
    "import numpy as np\n",
    "from sklearn.naive_bayes import MultinomialNB, BernoulliNB\n",
    "from sklearn.feature_extraction.text import CountVectorizer\n",
    "from sklearn.metrics import accuracy_score, precision_score, recall_score, f1_score, classification_report\n",
    "from sklearn import tree\n",
    "\n",
    "from nltk.sentiment.vader import SentimentIntensityAnalyzer\n",
    "\n",
    "\n"
   ]
  },
  {
   "cell_type": "code",
   "execution_count": null,
   "metadata": {},
   "outputs": [],
   "source": []
  },
  {
   "cell_type": "code",
   "execution_count": null,
   "metadata": {},
   "outputs": [],
   "source": [
    "# def predict_and_test(model, X_test_bag_of_words):\n",
    "#     predicted_y = model.predict(X_test_bag_of_words)\n",
    "#     print(y_test, predicted_y)\n",
    "#     print(model.predict_proba(X_test_bag_of_words))\n",
    "#     print(classification_report(y_test, predicted_y, zero_division=0))\n",
    "\n",
    "\n",
    "# # Create text\n",
    "# text_data = np.array(['I love Brazil. Brazil is best',\n",
    "#                       'I like Italy, because Italy is beautiful',\n",
    "#                       'Malaysia is ok, but I do not like spicy food',\n",
    "#                       'I like Germany more, Germany beats all',\n",
    "#                       'I do not like hot weather in Singapore'])\n",
    "# X = text_data\n",
    "# # Create target vector\n",
    "# y = ['positive', 'positive', 'negative', 'positive', 'negative']\n",
    "\n",
    "# # analyse with VADER\n",
    "# analyser = SentimentIntensityAnalyzer()\n",
    "# for text in text_data:\n",
    "#     score = analyser.polarity_scores(text)\n",
    "#     if score['compound'] >= 0.05:\n",
    "#         print(text + \": \" + \"VADER positive\")\n",
    "#     elif score['compound'] <= -0.05:\n",
    "#         print(text + \": \" + \"VADER negative\")\n",
    "#     else:\n",
    "#         print(text + \": \" + \"VADER neutral\")\n",
    "\n",
    "# # split into train and test\n",
    "# X_train = X[:3]\n",
    "# X_test = X[3:]\n",
    "# y_train = y[:3]\n",
    "# y_test = y[3:]\n",
    "\n",
    "# # create count vectorizer and fit it with training data\n",
    "# count = CountVectorizer()\n",
    "# X_train_bag_of_words = count.fit_transform(X_train)\n",
    "\n",
    "# # transform the test data into bag of words creaed with fit_transform\n",
    "# X_test_bag_of_words = count.transform(X_test)\n",
    "\n",
    "# print(\"----bnb\")\n",
    "# clf = BernoulliNB()\n",
    "# model = clf.fit(X_train_bag_of_words, y_train)\n",
    "# predict_and_test(model, X_test_bag_of_words)\n",
    "\n",
    "# print(\"----mnb\")\n",
    "# clf = MultinomialNB()\n",
    "# model = clf.fit(X_train_bag_of_words, y_train)\n",
    "# predict_and_test(model, X_test_bag_of_words)\n",
    "\n",
    "# # if random_state id not set. the feaures are randomised, therefore tree may be different each time\n",
    "# print(\"----dt\")\n",
    "# clf = tree.DecisionTreeClassifier(min_samples_leaf=20, criterion='entropy', random_state=0)\n",
    "# model = clf.fit(X_train_bag_of_words, y_train)\n",
    "# predict_and_test(model, X_test_bag_of_words)\n"
   ]
  }
 ],
 "metadata": {
  "kernelspec": {
   "display_name": "Python 3",
   "language": "python",
   "name": "python3"
  },
  "language_info": {
   "codemirror_mode": {
    "name": "ipython",
    "version": 3
   },
   "file_extension": ".py",
   "mimetype": "text/x-python",
   "name": "python",
   "nbconvert_exporter": "python",
   "pygments_lexer": "ipython3",
   "version": "3.7.4"
  }
 },
 "nbformat": 4,
 "nbformat_minor": 2
}
