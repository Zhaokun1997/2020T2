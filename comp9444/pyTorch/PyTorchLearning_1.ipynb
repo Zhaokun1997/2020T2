{
 "cells": [
  {
   "cell_type": "code",
   "execution_count": 28,
   "metadata": {},
   "outputs": [],
   "source": [
    "import torch\n",
    "import torchvision\n",
    "import numpy as np\n",
    "import sys\n",
    "from time import time\n",
    "# sys.path.append(\"..\") # 为了导入上层目录的d2lzh_pytorch\n",
    "# import d2lzh_pytorch as d2l"
   ]
  },
  {
   "cell_type": "code",
   "execution_count": 29,
   "metadata": {},
   "outputs": [
    {
     "data": {
      "text/plain": [
       "['/Users/steve/Desktop/2020T2/comp9444/pyTorch',\n",
       " '/Users/steve/opt/anaconda3/lib/python37.zip',\n",
       " '/Users/steve/opt/anaconda3/lib/python3.7',\n",
       " '/Users/steve/opt/anaconda3/lib/python3.7/lib-dynload',\n",
       " '',\n",
       " '/Users/steve/opt/anaconda3/lib/python3.7/site-packages',\n",
       " '/Users/steve/opt/anaconda3/lib/python3.7/site-packages/aeosa',\n",
       " '/Users/steve/opt/anaconda3/lib/python3.7/site-packages/IPython/extensions',\n",
       " '/Users/steve/.ipython',\n",
       " '..']"
      ]
     },
     "execution_count": 29,
     "metadata": {},
     "output_type": "execute_result"
    }
   ],
   "source": [
    "sys.path"
   ]
  },
  {
   "cell_type": "code",
   "execution_count": 30,
   "metadata": {},
   "outputs": [],
   "source": [
    "num_inputs = 784\n",
    "num_outputs = 10\n",
    "\n",
    "W = torch.tensor(np.random.normal(0, 0.01, (num_inputs, num_outputs)), dtype=torch.float)\n",
    "b = torch.zeros(num_outputs, dtype=torch.float)\n",
    "\n",
    "W.requires_grad_(requires_grad=True)\n",
    "b.requires_grad_(requires_grad=True) "
   ]
  },
  {
   "cell_type": "code",
   "execution_count": 34,
   "metadata": {},
   "outputs": [
    {
     "name": "stdout",
     "output_type": "stream",
     "text": [
      "torch.Size([784, 10])\n",
      "tensor([[ 0.0098,  0.0091,  0.0103,  ...,  0.0044, -0.0026, -0.0058],\n",
      "        [-0.0114,  0.0060,  0.0111,  ..., -0.0178,  0.0072,  0.0017],\n",
      "        [ 0.0216, -0.0024, -0.0154,  ..., -0.0155,  0.0049, -0.0073],\n",
      "        ...,\n",
      "        [ 0.0007,  0.0103, -0.0008,  ...,  0.0127, -0.0053,  0.0198],\n",
      "        [-0.0140,  0.0068, -0.0118,  ..., -0.0103, -0.0060, -0.0084],\n",
      "        [ 0.0026, -0.0048,  0.0159,  ...,  0.0010, -0.0001, -0.0004]])\n",
      "torch.Size([10])\n",
      "tensor([0., 0., 0., 0., 0., 0., 0., 0., 0., 0.])\n"
     ]
    }
   ],
   "source": [
    "print(W.shape)\n",
    "print(W)\n",
    "print(b.shape)\n",
    "print(b)"
   ]
  },
  {
   "cell_type": "code",
   "execution_count": 36,
   "metadata": {},
   "outputs": [
    {
     "data": {
      "text/plain": [
       "tensor([[1.0098, 1.0091, 1.0104,  ..., 1.0044, 0.9974, 0.9942],\n",
       "        [0.9886, 1.0060, 1.0111,  ..., 0.9824, 1.0072, 1.0017],\n",
       "        [1.0219, 0.9976, 0.9847,  ..., 0.9846, 1.0049, 0.9927],\n",
       "        ...,\n",
       "        [1.0007, 1.0104, 0.9992,  ..., 1.0127, 0.9948, 1.0200],\n",
       "        [0.9861, 1.0068, 0.9883,  ..., 0.9897, 0.9940, 0.9916],\n",
       "        [1.0026, 0.9952, 1.0161,  ..., 1.0010, 0.9999, 0.9996]])"
      ]
     },
     "execution_count": 36,
     "metadata": {},
     "output_type": "execute_result"
    }
   ],
   "source": [
    "W.exp()"
   ]
  },
  {
   "cell_type": "code",
   "execution_count": null,
   "metadata": {},
   "outputs": [],
   "source": []
  }
 ],
 "metadata": {
  "kernelspec": {
   "display_name": "Python 3",
   "language": "python",
   "name": "python3"
  },
  "language_info": {
   "codemirror_mode": {
    "name": "ipython",
    "version": 3
   },
   "file_extension": ".py",
   "mimetype": "text/x-python",
   "name": "python",
   "nbconvert_exporter": "python",
   "pygments_lexer": "ipython3",
   "version": "3.7.4"
  }
 },
 "nbformat": 4,
 "nbformat_minor": 2
}
