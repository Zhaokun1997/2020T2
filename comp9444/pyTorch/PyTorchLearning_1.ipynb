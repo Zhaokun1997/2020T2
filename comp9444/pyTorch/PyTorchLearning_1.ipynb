{
 "cells": [
  {
   "cell_type": "code",
   "execution_count": 28,
   "metadata": {},
   "outputs": [],
   "source": [
    "import torch\n",
    "import torchvision\n",
    "import numpy as np\n",
    "import sys\n",
    "from time import time\n",
    "# sys.path.append(\"..\") # 为了导入上层目录的d2lzh_pytorch\n",
    "# import d2lzh_pytorch as d2l"
   ]
  },
  {
   "cell_type": "code",
   "execution_count": 29,
   "metadata": {},
   "outputs": [
    {
     "data": {
      "text/plain": [
       "['/Users/steve/Desktop/2020T2/comp9444/pyTorch',\n",
       " '/Users/steve/opt/anaconda3/lib/python37.zip',\n",
       " '/Users/steve/opt/anaconda3/lib/python3.7',\n",
       " '/Users/steve/opt/anaconda3/lib/python3.7/lib-dynload',\n",
       " '',\n",
       " '/Users/steve/opt/anaconda3/lib/python3.7/site-packages',\n",
       " '/Users/steve/opt/anaconda3/lib/python3.7/site-packages/aeosa',\n",
       " '/Users/steve/opt/anaconda3/lib/python3.7/site-packages/IPython/extensions',\n",
       " '/Users/steve/.ipython',\n",
       " '..']"
      ]
     },
     "execution_count": 29,
     "metadata": {},
     "output_type": "execute_result"
    }
   ],
   "source": [
    "sys.path"
   ]
  },
  {
   "cell_type": "code",
   "execution_count": 30,
   "metadata": {},
   "outputs": [],
   "source": [
    "num_inputs = 784\n",
    "num_outputs = 10\n",
    "\n",
    "W = torch.tensor(np.random.normal(0, 0.01, (num_inputs, num_outputs)), dtype=torch.float)\n",
    "b = torch.zeros(num_outputs, dtype=torch.float)\n",
    "\n",
    "W.requires_grad_(requires_grad=True)\n",
    "b.requires_grad_(requires_grad=True) "
   ]
  },
  {
   "cell_type": "code",
   "execution_count": 34,
   "metadata": {},
   "outputs": [
    {
     "name": "stdout",
     "output_type": "stream",
     "text": [
      "torch.Size([784, 10])\n",
      "tensor([[ 0.0098,  0.0091,  0.0103,  ...,  0.0044, -0.0026, -0.0058],\n",
      "        [-0.0114,  0.0060,  0.0111,  ..., -0.0178,  0.0072,  0.0017],\n",
      "        [ 0.0216, -0.0024, -0.0154,  ..., -0.0155,  0.0049, -0.0073],\n",
      "        ...,\n",
      "        [ 0.0007,  0.0103, -0.0008,  ...,  0.0127, -0.0053,  0.0198],\n",
      "        [-0.0140,  0.0068, -0.0118,  ..., -0.0103, -0.0060, -0.0084],\n",
      "        [ 0.0026, -0.0048,  0.0159,  ...,  0.0010, -0.0001, -0.0004]])\n",
      "torch.Size([10])\n",
      "tensor([0., 0., 0., 0., 0., 0., 0., 0., 0., 0.])\n"
     ]
    }
   ],
   "source": [
    "print(W.shape)\n",
    "print(W)\n",
    "print(b.shape)\n",
    "print(b)"
   ]
  },
  {
   "cell_type": "code",
   "execution_count": 36,
   "metadata": {},
   "outputs": [
    {
     "data": {
      "text/plain": [
       "tensor([[1.0098, 1.0091, 1.0104,  ..., 1.0044, 0.9974, 0.9942],\n",
       "        [0.9886, 1.0060, 1.0111,  ..., 0.9824, 1.0072, 1.0017],\n",
       "        [1.0219, 0.9976, 0.9847,  ..., 0.9846, 1.0049, 0.9927],\n",
       "        ...,\n",
       "        [1.0007, 1.0104, 0.9992,  ..., 1.0127, 0.9948, 1.0200],\n",
       "        [0.9861, 1.0068, 0.9883,  ..., 0.9897, 0.9940, 0.9916],\n",
       "        [1.0026, 0.9952, 1.0161,  ..., 1.0010, 0.9999, 0.9996]])"
      ]
     },
     "execution_count": 36,
     "metadata": {},
     "output_type": "execute_result"
    }
   ],
   "source": [
    "W.exp()"
   ]
  },
  {
   "cell_type": "code",
   "execution_count": 2,
   "metadata": {},
   "outputs": [
    {
     "name": "stdout",
     "output_type": "stream",
     "text": [
      "11 22\n"
     ]
    },
    {
     "data": {
      "text/plain": [
       "'11-22'"
      ]
     },
     "execution_count": 2,
     "metadata": {},
     "output_type": "execute_result"
    }
   ],
   "source": [
    "data = \"11-22\"\n",
    "time = data.split('-')[0]\n",
    "day = data.split('-')[1]\n",
    "print(time, day)\n",
    "data"
   ]
  },
  {
   "cell_type": "code",
   "execution_count": 3,
   "metadata": {},
   "outputs": [
    {
     "data": {
      "text/plain": [
       "{'A': 1, 'B': 2}"
      ]
     },
     "execution_count": 3,
     "metadata": {},
     "output_type": "execute_result"
    }
   ],
   "source": [
    "dic = {'A':1, 'B':2}\n",
    "dic"
   ]
  },
  {
   "cell_type": "code",
   "execution_count": 7,
   "metadata": {},
   "outputs": [
    {
     "data": {
      "text/plain": [
       "['A', 'B']"
      ]
     },
     "execution_count": 7,
     "metadata": {},
     "output_type": "execute_result"
    }
   ],
   "source": [
    "list(dic.keys())"
   ]
  },
  {
   "cell_type": "code",
   "execution_count": 8,
   "metadata": {},
   "outputs": [
    {
     "name": "stdout",
     "output_type": "stream",
     "text": [
      "A\n",
      "B\n"
     ]
    }
   ],
   "source": [
    "for i in dic.keys():\n",
    "    print(i)"
   ]
  },
  {
   "cell_type": "code",
   "execution_count": 9,
   "metadata": {},
   "outputs": [
    {
     "data": {
      "text/plain": [
       "True"
      ]
     },
     "execution_count": 9,
     "metadata": {},
     "output_type": "execute_result"
    }
   ],
   "source": [
    "'A' in dic.keys()"
   ]
  },
  {
   "cell_type": "code",
   "execution_count": 10,
   "metadata": {},
   "outputs": [
    {
     "data": {
      "text/plain": [
       "True"
      ]
     },
     "execution_count": 10,
     "metadata": {},
     "output_type": "execute_result"
    }
   ],
   "source": [
    "'aa' == 'aa'\n"
   ]
  },
  {
   "cell_type": "code",
   "execution_count": 11,
   "metadata": {},
   "outputs": [
    {
     "data": {
      "text/plain": [
       "dict"
      ]
     },
     "execution_count": 11,
     "metadata": {},
     "output_type": "execute_result"
    }
   ],
   "source": [
    "soft = {}\n",
    "type(soft)"
   ]
  },
  {
   "cell_type": "code",
   "execution_count": 38,
   "metadata": {},
   "outputs": [],
   "source": [
    "soft = [{'t1': 3}, {'t2': 4}]\n",
    "\n",
    "domain = {}"
   ]
  },
  {
   "cell_type": "code",
   "execution_count": 39,
   "metadata": {},
   "outputs": [
    {
     "name": "stdout",
     "output_type": "stream",
     "text": [
      "{'t1': {(11, 14)}, 't2': {(11, 14)}}\n"
     ]
    }
   ],
   "source": [
    "for var in soft:\n",
    "    domain[list(var)[0]]={(11,14)}\n",
    "print(domain)"
   ]
  },
  {
   "cell_type": "code",
   "execution_count": 28,
   "metadata": {},
   "outputs": [
    {
     "data": {
      "text/plain": [
       "dict"
      ]
     },
     "execution_count": 28,
     "metadata": {},
     "output_type": "execute_result"
    }
   ],
   "source": [
    "type({'A': {1, 2, 3, 4}, 'B': {1, 2, 3, 4}, 'C': {1, 2, 3, 4},\n",
    "            'D': {1, 2, 3, 4}, 'E': {1, 2, 3, 4}})"
   ]
  },
  {
   "cell_type": "code",
   "execution_count": 47,
   "metadata": {},
   "outputs": [],
   "source": [
    "def bc_before(t1, t2):\n",
    "    # 't1': {(start, end), (start, end)...},\n",
    "    # 't2': {(start, end), (start, end)...}\n",
    "    return t1[1] <= t2[0]  # t1.end_time <= t2.start_time"
   ]
  },
  {
   "cell_type": "code",
   "execution_count": 65,
   "metadata": {},
   "outputs": [
    {
     "name": "stdout",
     "output_type": "stream",
     "text": [
      "1\n",
      "2\n",
      "3\n",
      "4\n",
      "5\n"
     ]
    }
   ],
   "source": [
    "# print(soft[0])\n",
    "day2num = {'mon': 1, 'tue': 2, 'wed': 3, 'thu': 4, 'fri': 5}\n",
    "for val in day2num.values():\n",
    "    print(val)\n"
   ]
  },
  {
   "cell_type": "code",
   "execution_count": 46,
   "metadata": {},
   "outputs": [
    {
     "name": "stdout",
     "output_type": "stream",
     "text": [
      "(11, 14)\n",
      "(12, 15)\n",
      "(13, 16)\n",
      "(14, 17)\n",
      "(15, 18)\n",
      "(16, 19)\n",
      "(21, 24)\n",
      "(22, 25)\n",
      "(23, 26)\n",
      "(24, 27)\n",
      "(25, 28)\n",
      "(26, 29)\n",
      "(31, 34)\n",
      "(32, 35)\n",
      "(33, 36)\n",
      "(34, 37)\n",
      "(35, 38)\n",
      "(36, 39)\n",
      "(41, 44)\n",
      "(42, 45)\n",
      "(43, 46)\n",
      "(44, 47)\n",
      "(45, 48)\n",
      "(46, 49)\n",
      "(51, 54)\n",
      "(52, 55)\n",
      "(53, 56)\n",
      "(54, 57)\n",
      "(55, 58)\n",
      "(56, 59)\n"
     ]
    }
   ],
   "source": [
    "for i in range(1, 6):\n",
    "    for j in range(1, 10 - 3):\n",
    "        print((i * 10 + j, i * 10 + j + 3))"
   ]
  },
  {
   "cell_type": "code",
   "execution_count": 62,
   "metadata": {},
   "outputs": [
    {
     "name": "stdout",
     "output_type": "stream",
     "text": [
      "{(14, 17), (21, 24), (33, 36), (11, 14), (23, 26), (43, 46), (51, 54), (55, 58), (24, 27), (26, 29), (13, 16), (45, 48), (15, 18), (36, 39), (46, 49), (42, 45), (31, 34), (53, 56), (32, 35), (34, 37), (16, 19), (25, 28), (12, 15), (22, 25), (44, 47), (52, 55), (54, 57), (56, 59), (35, 38), (41, 44)}\n"
     ]
    }
   ],
   "source": [
    "print(set(sorted({(i * 10 + j, i * 10 + j + 3) for i in range(1, 6) for j in range(1, 10 - 3)})))"
   ]
  },
  {
   "cell_type": "code",
   "execution_count": null,
   "metadata": {},
   "outputs": [],
   "source": []
  }
 ],
 "metadata": {
  "kernelspec": {
   "display_name": "Python 3",
   "language": "python",
   "name": "python3"
  },
  "language_info": {
   "codemirror_mode": {
    "name": "ipython",
    "version": 3
   },
   "file_extension": ".py",
   "mimetype": "text/x-python",
   "name": "python",
   "nbconvert_exporter": "python",
   "pygments_lexer": "ipython3",
   "version": "3.7.4"
  }
 },
 "nbformat": 4,
 "nbformat_minor": 2
}
